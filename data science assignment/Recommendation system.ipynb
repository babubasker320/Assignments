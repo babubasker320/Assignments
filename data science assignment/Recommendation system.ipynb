{
 "cells": [
  {
   "cell_type": "code",
   "execution_count": 1,
   "id": "f54a2702-98e2-4886-9e17-6b2d5beee16f",
   "metadata": {},
   "outputs": [
    {
     "name": "stdout",
     "output_type": "stream",
     "text": [
      "986                         Shakugan no Shana\n",
      "1604                      Shakugan no Shana S\n",
      "1003            Shakugan no Shana III (Final)\n",
      "0                              Kimi no Na wa.\n",
      "5805              Wind: A Breath of Heart OVA\n",
      "6394             Wind: A Breath of Heart (TV)\n",
      "1111    Aura: Maryuuin Kouga Saigo no Tatakai\n",
      "2103                            Clannad Movie\n",
      "4572                                  Rewrite\n",
      "159                              Angel Beats!\n",
      "Name: name, dtype: object\n"
     ]
    }
   ],
   "source": [
    "import pandas as pd\n",
    "from sklearn.feature_extraction.text import TfidfVectorizer\n",
    "from sklearn.metrics.pairwise import cosine_similarity\n",
    "\n",
    "# Load dataset\n",
    "anime_df = pd.read_csv(r\"D:\\Excelr\\Data Science\\Data Science Assignment\\Recommendation System\\Recommendation System\\anime.csv\")\n",
    "# Fill missing values\n",
    "anime_df['genre'].fillna('Unknown', inplace=True)\n",
    "anime_df['type'].fillna('Unknown', inplace=True)\n",
    "median_rating = anime_df['rating'].median()\n",
    "anime_df['rating'].fillna(median_rating, inplace=True)\n",
    "# Clean genres\n",
    "anime_df['genre'] = anime_df['genre'].replace({'&amp;': '&'}, regex=True)\n",
    "# TF-IDF vectorizer\n",
    "tfidf = TfidfVectorizer(stop_words='english')\n",
    "tfidf_matrix = tfidf.fit_transform(anime_df['genre'])\n",
    "# cosine similarity\n",
    "cosine_sim = cosine_similarity(tfidf_matrix, tfidf_matrix)\n",
    "# Function to recommend anime\n",
    "def get_recommendations(title, cosine_sim=cosine_sim):\n",
    "    idx = anime_df[anime_df['name'] == title].index[0]\n",
    "    sim_scores = list(enumerate(cosine_sim[idx]))\n",
    "    sim_scores = sorted(sim_scores, key=lambda x: x[1], reverse=True)\n",
    "    sim_scores = sim_scores[1:11]  # Get top 10 similar anime\n",
    "    anime_indices = [i[0] for i in sim_scores]\n",
    "    return anime_df['name'].iloc[anime_indices]\n",
    "# Get recommendations for a given anime\n",
    "print(get_recommendations('Shakugan no Shana'))"
   ]
  },
  {
   "cell_type": "code",
   "execution_count": 2,
   "id": "d432d2f4-efc0-48f2-88cc-f850b3a60e7e",
   "metadata": {},
   "outputs": [
    {
     "data": {
      "text/html": [
       "<div>\n",
       "<style scoped>\n",
       "    .dataframe tbody tr th:only-of-type {\n",
       "        vertical-align: middle;\n",
       "    }\n",
       "\n",
       "    .dataframe tbody tr th {\n",
       "        vertical-align: top;\n",
       "    }\n",
       "\n",
       "    .dataframe thead th {\n",
       "        text-align: right;\n",
       "    }\n",
       "</style>\n",
       "<table border=\"1\" class=\"dataframe\">\n",
       "  <thead>\n",
       "    <tr style=\"text-align: right;\">\n",
       "      <th></th>\n",
       "      <th>rating</th>\n",
       "      <th>members</th>\n",
       "    </tr>\n",
       "    <tr>\n",
       "      <th>genre</th>\n",
       "      <th></th>\n",
       "      <th></th>\n",
       "    </tr>\n",
       "  </thead>\n",
       "  <tbody>\n",
       "    <tr>\n",
       "      <th>Action, Adventure, Drama, Fantasy, Magic, Military, Shounen</th>\n",
       "      <td>9.26</td>\n",
       "      <td>793665.0</td>\n",
       "    </tr>\n",
       "    <tr>\n",
       "      <th>Drama, Fantasy, Romance, Slice of Life, Supernatural</th>\n",
       "      <td>9.06</td>\n",
       "      <td>456749.0</td>\n",
       "    </tr>\n",
       "    <tr>\n",
       "      <th>Drama, School, Shounen</th>\n",
       "      <td>9.05</td>\n",
       "      <td>102733.0</td>\n",
       "    </tr>\n",
       "    <tr>\n",
       "      <th>Adventure, Drama, Supernatural</th>\n",
       "      <td>8.93</td>\n",
       "      <td>466254.0</td>\n",
       "    </tr>\n",
       "    <tr>\n",
       "      <th>Drama, Music, Romance, School, Shounen</th>\n",
       "      <td>8.92</td>\n",
       "      <td>416397.0</td>\n",
       "    </tr>\n",
       "  </tbody>\n",
       "</table>\n",
       "</div>"
      ],
      "text/plain": [
       "                                                    rating   members\n",
       "genre                                                               \n",
       "Action, Adventure, Drama, Fantasy, Magic, Milit...    9.26  793665.0\n",
       "Drama, Fantasy, Romance, Slice of Life, Superna...    9.06  456749.0\n",
       "Drama, School, Shounen                                9.05  102733.0\n",
       "Adventure, Drama, Supernatural                        8.93  466254.0\n",
       "Drama, Music, Romance, School, Shounen                8.92  416397.0"
      ]
     },
     "execution_count": 2,
     "metadata": {},
     "output_type": "execute_result"
    }
   ],
   "source": [
    "# groupby-based recommendation system\n",
    "import pandas as pd\n",
    "\n",
    "# Load the dataset again\n",
    "file_path = r\"D:\\Excelr\\Data Science\\Data Science Assignment\\Recommendation System\\Recommendation System\\anime.csv\"\n",
    "anime_df = pd.read_csv(file_path)\n",
    "# Fill missing values as before\n",
    "anime_df['genre'].fillna('Unknown', inplace=True)\n",
    "anime_df['type'].fillna('Unknown', inplace=True)\n",
    "median_rating = anime_df['rating'].median()\n",
    "anime_df['rating'].fillna(median_rating, inplace=True)\n",
    "# Group the anime by 'genre' and calculate the mean rating and members count for each genre\n",
    "grouped_anime = anime_df.groupby('genre').agg({'rating': 'mean', 'members': 'mean'}).sort_values(by='rating', ascending=False)\n",
    "# Display the top genres sorted by average rating\n",
    "grouped_anime.head()"
   ]
  },
  {
   "cell_type": "code",
   "execution_count": 3,
   "id": "ab08e475-82cf-4fc0-8da4-f3d592884db9",
   "metadata": {},
   "outputs": [
    {
     "data": {
      "text/html": [
       "<div>\n",
       "<style scoped>\n",
       "    .dataframe tbody tr th:only-of-type {\n",
       "        vertical-align: middle;\n",
       "    }\n",
       "\n",
       "    .dataframe tbody tr th {\n",
       "        vertical-align: top;\n",
       "    }\n",
       "\n",
       "    .dataframe thead th {\n",
       "        text-align: right;\n",
       "    }\n",
       "</style>\n",
       "<table border=\"1\" class=\"dataframe\">\n",
       "  <thead>\n",
       "    <tr style=\"text-align: right;\">\n",
       "      <th></th>\n",
       "      <th>name</th>\n",
       "      <th>rating</th>\n",
       "      <th>members</th>\n",
       "    </tr>\n",
       "  </thead>\n",
       "  <tbody>\n",
       "    <tr>\n",
       "      <th>0</th>\n",
       "      <td>Kimi no Na wa.</td>\n",
       "      <td>9.37</td>\n",
       "      <td>200630</td>\n",
       "    </tr>\n",
       "    <tr>\n",
       "      <th>5805</th>\n",
       "      <td>Wind: A Breath of Heart OVA</td>\n",
       "      <td>6.35</td>\n",
       "      <td>2043</td>\n",
       "    </tr>\n",
       "  </tbody>\n",
       "</table>\n",
       "</div>"
      ],
      "text/plain": [
       "                             name  rating  members\n",
       "0                  Kimi no Na wa.    9.37   200630\n",
       "5805  Wind: A Breath of Heart OVA    6.35     2043"
      ]
     },
     "execution_count": 3,
     "metadata": {},
     "output_type": "execute_result"
    }
   ],
   "source": [
    "# Function to recommend anime based on a given anime's genre\n",
    "def recommend_anime_by_genre(anime_title, anime_df, top_n=5):\n",
    "    # Find the genre of the given anime\n",
    "    genre = anime_df[anime_df['name'] == anime_title]['genre'].values\n",
    "    \n",
    "    if len(genre) == 0:\n",
    "        return f\"Anime titled '{anime_title}' not found.\"\n",
    "    \n",
    "    # Filter other anime from the same genre\n",
    "    genre_anime = anime_df[anime_df['genre'] == genre[0]]\n",
    "    \n",
    "    # Sort by rating and return top N recommendations excluding the original anime\n",
    "    recommendations = genre_anime[genre_anime['name'] != anime_title].sort_values(by='rating', ascending=False).head(top_n)\n",
    "    \n",
    "    return recommendations[['name', 'rating', 'members']]\n",
    "\n",
    "# Get recommendations based on 'Kimi no Na wa.'\n",
    "recommend_anime_by_genre('Wind: A Breath of Heart (TV)', anime_df)"
   ]
  },
  {
   "cell_type": "raw",
   "id": "674a8994-a767-4613-bcc5-4ae3b33c429c",
   "metadata": {},
   "source": [
    "Recommendation"
   ]
  },
  {
   "cell_type": "code",
   "execution_count": 4,
   "id": "af4f0e46-73e5-49d2-ac8c-8ccd73a46915",
   "metadata": {},
   "outputs": [
    {
     "name": "stdout",
     "output_type": "stream",
     "text": [
      "<class 'pandas.core.frame.DataFrame'>\n",
      "RangeIndex: 12294 entries, 0 to 12293\n",
      "Data columns (total 7 columns):\n",
      " #   Column    Non-Null Count  Dtype  \n",
      "---  ------    --------------  -----  \n",
      " 0   anime_id  12294 non-null  int64  \n",
      " 1   name      12294 non-null  object \n",
      " 2   genre     12232 non-null  object \n",
      " 3   type      12269 non-null  object \n",
      " 4   episodes  12294 non-null  object \n",
      " 5   rating    12064 non-null  float64\n",
      " 6   members   12294 non-null  int64  \n",
      "dtypes: float64(1), int64(2), object(4)\n",
      "memory usage: 672.5+ KB\n"
     ]
    },
    {
     "data": {
      "text/plain": [
       "(anime_id      0\n",
       " name          0\n",
       " genre        62\n",
       " type         25\n",
       " episodes      0\n",
       " rating      230\n",
       " members       0\n",
       " dtype: int64,\n",
       " (12294, 7),\n",
       " None,\n",
       "            anime_id        rating       members\n",
       " count  12294.000000  12064.000000  1.229400e+04\n",
       " mean   14058.221653      6.473902  1.807134e+04\n",
       " std    11455.294701      1.026746  5.482068e+04\n",
       " min        1.000000      1.670000  5.000000e+00\n",
       " 25%     3484.250000      5.880000  2.250000e+02\n",
       " 50%    10260.500000      6.570000  1.550000e+03\n",
       " 75%    24794.500000      7.180000  9.437000e+03\n",
       " max    34527.000000     10.000000  1.013917e+06)"
      ]
     },
     "execution_count": 4,
     "metadata": {},
     "output_type": "execute_result"
    }
   ],
   "source": [
    "# Load the dataset\n",
    "anime_df = pd.read_csv(r\"D:\\Excelr\\Data Science\\Data Science Assignment\\Recommendation System\\Recommendation System\\anime.csv\")\n",
    "\n",
    "# Check for missing values\n",
    "missing_values = anime_df.isnull().sum()\n",
    "\n",
    "# summary of the dataset\n",
    "dataset_shape = anime_df.shape\n",
    "dataset_info = anime_df.info()\n",
    "dataset_description = anime_df.describe()\n",
    "\n",
    "missing_values, dataset_shape, dataset_info, dataset_description"
   ]
  },
  {
   "cell_type": "code",
   "execution_count": 5,
   "id": "6f415512-85f3-412b-b29d-890f88002e63",
   "metadata": {},
   "outputs": [
    {
     "data": {
      "text/plain": [
       "0"
      ]
     },
     "execution_count": 5,
     "metadata": {},
     "output_type": "execute_result"
    }
   ],
   "source": [
    "# Fill missing values in the 'rating' column with the median rating\n",
    "median_rating = anime_df['rating'].median()\n",
    "anime_df['rating'].fillna(median_rating, inplace=True)\n",
    "\n",
    "# missing values in 'rating' column are filled\n",
    "anime_df['rating'].isnull().sum()"
   ]
  },
  {
   "cell_type": "raw",
   "id": "d0f2ac3a-0b97-4e6b-8d66-9ffa0a33f08e",
   "metadata": {},
   "source": [
    "feature extraction"
   ]
  },
  {
   "cell_type": "code",
   "execution_count": 6,
   "id": "f83f1d58-b656-4136-8c78-70da5540dc17",
   "metadata": {},
   "outputs": [
    {
     "data": {
      "text/plain": [
       "(12294, 47)"
      ]
     },
     "execution_count": 6,
     "metadata": {},
     "output_type": "execute_result"
    }
   ],
   "source": [
    "from sklearn.feature_extraction.text import TfidfVectorizer\n",
    "\n",
    "# Convert 'genre' into numerical format using TF-IDF\n",
    "tfidf = TfidfVectorizer(stop_words='english')\n",
    "# TF-IDF vectorizer to the 'genre' column\n",
    "anime_df['genre'] = anime_df['genre'].fillna('Unknown')  # Handle any remaining missing genres\n",
    "tfidf_matrix_genre = tfidf.fit_transform(anime_df['genre'])\n",
    "# shape of the TF-IDF matrix for genres\n",
    "tfidf_matrix_genre.shape"
   ]
  },
  {
   "cell_type": "code",
   "execution_count": 7,
   "id": "ee9d0ec1-1b97-4e22-a641-841b10e809ff",
   "metadata": {},
   "outputs": [
    {
     "data": {
      "text/plain": [
       "(12294, 7)"
      ]
     },
     "execution_count": 7,
     "metadata": {},
     "output_type": "execute_result"
    }
   ],
   "source": [
    "# Convert 'type' into numerical format using one-hot encoding\n",
    "anime_df['type'] = anime_df['type'].fillna('Unknown')  # Handle any missing values\n",
    "type_one_hot = pd.get_dummies(anime_df['type'], prefix='type')\n",
    "# shape of the one-hot encoded 'type' matrix\n",
    "type_one_hot.shape"
   ]
  },
  {
   "cell_type": "code",
   "execution_count": 8,
   "id": "ae58cfab-4626-4baa-ad99-ce398575fedb",
   "metadata": {},
   "outputs": [
    {
     "data": {
      "text/html": [
       "<div>\n",
       "<style scoped>\n",
       "    .dataframe tbody tr th:only-of-type {\n",
       "        vertical-align: middle;\n",
       "    }\n",
       "\n",
       "    .dataframe tbody tr th {\n",
       "        vertical-align: top;\n",
       "    }\n",
       "\n",
       "    .dataframe thead th {\n",
       "        text-align: right;\n",
       "    }\n",
       "</style>\n",
       "<table border=\"1\" class=\"dataframe\">\n",
       "  <thead>\n",
       "    <tr style=\"text-align: right;\">\n",
       "      <th></th>\n",
       "      <th>rating</th>\n",
       "      <th>rating_normalized</th>\n",
       "    </tr>\n",
       "  </thead>\n",
       "  <tbody>\n",
       "    <tr>\n",
       "      <th>0</th>\n",
       "      <td>9.37</td>\n",
       "      <td>0.924370</td>\n",
       "    </tr>\n",
       "    <tr>\n",
       "      <th>1</th>\n",
       "      <td>9.26</td>\n",
       "      <td>0.911164</td>\n",
       "    </tr>\n",
       "    <tr>\n",
       "      <th>2</th>\n",
       "      <td>9.25</td>\n",
       "      <td>0.909964</td>\n",
       "    </tr>\n",
       "    <tr>\n",
       "      <th>3</th>\n",
       "      <td>9.17</td>\n",
       "      <td>0.900360</td>\n",
       "    </tr>\n",
       "    <tr>\n",
       "      <th>4</th>\n",
       "      <td>9.16</td>\n",
       "      <td>0.899160</td>\n",
       "    </tr>\n",
       "  </tbody>\n",
       "</table>\n",
       "</div>"
      ],
      "text/plain": [
       "   rating  rating_normalized\n",
       "0    9.37           0.924370\n",
       "1    9.26           0.911164\n",
       "2    9.25           0.909964\n",
       "3    9.17           0.900360\n",
       "4    9.16           0.899160"
      ]
     },
     "execution_count": 8,
     "metadata": {},
     "output_type": "execute_result"
    }
   ],
   "source": [
    "from sklearn.preprocessing import MinMaxScaler\n",
    "\n",
    "# Normalize the 'rating' column using MinMaxScaler\n",
    "scaler = MinMaxScaler()\n",
    "anime_df['rating_normalized'] = scaler.fit_transform(anime_df[['rating']])\n",
    "# normalized rating\n",
    "anime_df[['rating', 'rating_normalized']].head()"
   ]
  },
  {
   "cell_type": "raw",
   "id": "29b9ae8d-11ae-4301-8fe0-95712dca8087",
   "metadata": {},
   "source": [
    "Recommendation System:"
   ]
  },
  {
   "cell_type": "code",
   "execution_count": 9,
   "id": "59576496-4058-4f3d-be01-59dfff907888",
   "metadata": {},
   "outputs": [
    {
     "data": {
      "text/plain": [
       "(12294, 55)"
      ]
     },
     "execution_count": 9,
     "metadata": {},
     "output_type": "execute_result"
    }
   ],
   "source": [
    "import numpy as np\n",
    "from scipy.sparse import hstack\n",
    "\n",
    "# Combine the TF-IDF genre matrix, one-hot encoded 'type', and normalized 'rating'\n",
    "# Convert 'rating_normalized' to a sparse matrix and concatenate with other features\n",
    "rating_matrix = np.array(anime_df['rating_normalized']).reshape(-1, 1)\n",
    "# Combine all feature matrices: genre (TF-IDF), type (one-hot), and rating (normalized)\n",
    "combined_features = hstack([tfidf_matrix_genre, type_one_hot, rating_matrix])\n",
    "# shape of the combined feature matrix\n",
    "combined_features.shape"
   ]
  },
  {
   "cell_type": "code",
   "execution_count": 10,
   "id": "cf9afbc7-7d4c-4e9d-bbf9-832238f9e3bc",
   "metadata": {},
   "outputs": [
    {
     "data": {
      "text/plain": [
       "(12294, 12294)"
      ]
     },
     "execution_count": 10,
     "metadata": {},
     "output_type": "execute_result"
    }
   ],
   "source": [
    "from sklearn.metrics.pairwise import cosine_similarity\n",
    "\n",
    "# cosine similarity matrix based on the combined features\n",
    "cosine_sim = cosine_similarity(combined_features, combined_features)\n",
    "\n",
    "# shape of the cosine similarity matrix\n",
    "cosine_sim.shape"
   ]
  },
  {
   "cell_type": "code",
   "execution_count": 11,
   "id": "2eb3a293-25e0-4111-89b1-9b787aac2530",
   "metadata": {},
   "outputs": [],
   "source": [
    "# cosine similarity matrix\n",
    "cosine_sim = cosine_similarity(combined_features, combined_features)"
   ]
  },
  {
   "cell_type": "raw",
   "id": "bc7eb538-82ae-4c65-80b9-4190331db7e7",
   "metadata": {},
   "source": [
    "Evaluation:"
   ]
  },
  {
   "cell_type": "code",
   "execution_count": 15,
   "id": "c113aac1-54dc-4446-8913-aa364b25978b",
   "metadata": {},
   "outputs": [
    {
     "data": {
      "text/plain": [
       "((9835, 7), (2459, 7))"
      ]
     },
     "execution_count": 15,
     "metadata": {},
     "output_type": "execute_result"
    }
   ],
   "source": [
    "import pandas as pd\n",
    "from sklearn.model_selection import train_test_split\n",
    "\n",
    "# Load the dataset again\n",
    "file_path = r\"D:\\Excelr\\Data Science\\Data Science Assignment\\Recommendation System\\Recommendation System\\anime.csv\"\n",
    "anime_df = pd.read_csv(file_path)\n",
    "# Fill missing values as done earlier\n",
    "anime_df['genre'].fillna('Unknown', inplace=True)\n",
    "anime_df['type'].fillna('Unknown', inplace=True)\n",
    "median_rating = anime_df['rating'].median()\n",
    "anime_df['rating'].fillna(median_rating, inplace=True)\n",
    "# Split the dataset into training and testing sets (20% test size)\n",
    "train_df, test_df = train_test_split(anime_df, test_size=0.2, random_state=42)\n",
    "# training and testing sets\n",
    "train_df.shape, test_df.shape"
   ]
  },
  {
   "cell_type": "code",
   "execution_count": 16,
   "id": "08dc0ba5-13d6-4cae-89bd-e45a80795a02",
   "metadata": {},
   "outputs": [],
   "source": [
    "# Recommendation function to recommend anime from the training set only\n",
    "def recommend_anime_train_only(anime_title, train_df, cosine_sim, top_n=10):\n",
    "    if anime_title not in train_df['name'].values:\n",
    "        return []\n",
    "    \n",
    "    # Get the index of the anime that matches the title in the training set\n",
    "    idx = train_df[train_df['name'] == anime_title].index[0]\n",
    "    \n",
    "    # Get the similarity scores of all anime with that anime\n",
    "    sim_scores = list(enumerate(cosine_sim[idx]))\n",
    "    \n",
    "    # Sort the anime based on the similarity scores\n",
    "    sim_scores = sorted(sim_scores, key=lambda x: x[1], reverse=True)\n",
    "    \n",
    "    # Get the indices of the top N similar anime from the training set\n",
    "    sim_scores = sim_scores[1:top_n+1]  # Exclude the anime itself\n",
    "    \n",
    "    # Get the anime names from the training set\n",
    "    anime_indices = [i[0] for i in sim_scores]\n",
    "    return train_df[['name']].iloc[anime_indices].values.flatten()"
   ]
  },
  {
   "cell_type": "code",
   "execution_count": 17,
   "id": "9cf96c23-abad-4e83-ace5-cc4296fc62fc",
   "metadata": {},
   "outputs": [
    {
     "name": "stdout",
     "output_type": "stream",
     "text": [
      "Precision: 0\n",
      "Recall: 0.0\n",
      "F1-Score: 0\n"
     ]
    }
   ],
   "source": [
    "# Define evaluation metrics: Precision, Recall, F1-Score\n",
    "def calculate_metrics(test_df, train_df, cosine_sim, top_n=10):\n",
    "    true_positives = 0\n",
    "    false_positives = 0\n",
    "    false_negatives = 0\n",
    "    \n",
    "    for anime in test_df['name'].values:\n",
    "        recommended_anime = recommend_anime_train_only(anime, train_df, cosine_sim, top_n=top_n)\n",
    "        \n",
    "        # Check for overlap between recommended and test set anime\n",
    "        if anime in recommended_anime:\n",
    "            true_positives += 1\n",
    "        else:\n",
    "            false_negatives += 1\n",
    "        \n",
    "        # False positives would be any recommendations not in the test set\n",
    "        for rec in recommended_anime:\n",
    "            if rec not in test_df['name'].values:\n",
    "                false_positives += 1\n",
    "    \n",
    "    # Calculate precision, recall, and F1-score\n",
    "    precision = true_positives / (true_positives + false_positives) if (true_positives + false_positives) > 0 else 0\n",
    "    recall = true_positives / (true_positives + false_negatives) if (true_positives + false_negatives) > 0 else 0\n",
    "    f1_score = 2 * (precision * recall) / (precision + recall) if (precision + recall) > 0 else 0\n",
    "    \n",
    "    return precision, recall, f1_score\n",
    "\n",
    "# metrics based on the recommendations\n",
    "precision, recall, f1_score = calculate_metrics(test_df, train_df, cosine_sim, top_n=10)\n",
    "\n",
    "print(f\"Precision: {precision}\")\n",
    "print(f\"Recall: {recall}\")\n",
    "print(f\"F1-Score: {f1_score}\")"
   ]
  },
  {
   "cell_type": "raw",
   "id": "8dba4cd0-1815-4137-967c-b3bf86c95d67",
   "metadata": {},
   "source": [
    "Interview Questions:"
   ]
  },
  {
   "cell_type": "raw",
   "id": "de8071b6-dbae-4c85-b626-a4dae0e8ef36",
   "metadata": {},
   "source": [
    "1. Can you explain the difference between user-based and item-based collaborative filtering?\n",
    "\n",
    "User-Based Collaborative Filtering:\n",
    "\n",
    "Definition: User-based collaborative filtering recommends items to a user based on the preferences of similar users. The idea is that if two users have similar tastes, they will likely enjoy the same items.\n",
    "\n",
    "How It Works:\n",
    "Identify a target user and find users who have rated or interacted with items in a similar way.\n",
    "Recommend items that the similar users liked but the target user hasn't interacted with yet.\n",
    "Example: If User A and User B both like the same types of movies, but User A has watched a movie that User B hasn't, the system will recommend that movie to User B.\n",
    "\n",
    "Item-Based Collaborative Filtering:\n",
    "\n",
    "Definition: Item-based collaborative filtering recommends items that are similar to those the user has already liked or interacted with. The similarity is computed between items instead of users.\n",
    "\n",
    "How It Works:\n",
    "Identify items that a user has interacted with (liked, rated highly).\n",
    "Find items that are similar to those based on interactions from other users.\n",
    "Recommend items similar to the ones the user liked.\n",
    "Example: If a user likes a specific movie, the system will recommend other movies that are similar to it based on the preferences of users who also liked the same movie.\n",
    "\n",
    "Key Differences:\n",
    "\n",
    "User-Based: Focuses on finding similar users to recommend new items.\n",
    "Item-Based: Focuses on finding similar items to what the user already liked.\n",
    "\n",
    "2. What is collaborative filtering, and how does it work?\n",
    "\n",
    "Collaborative Filtering:\n",
    "\n",
    "Definition: Collaborative filtering is a recommendation system technique that uses the preferences of a group of users to make recommendations. It assumes that users who agreed in the past will continue to agree in the future. It can be divided into user-based and item-based collaborative filtering.\n",
    "\n",
    "How It Works:\n",
    "\n",
    "Data Collection:\n",
    "\n",
    "Collect data on user interactions with items (e.g.ratings, clicks, purchases).\n",
    "This data is usually stored in a user-item matrix, where rows represent users and columns represent items.\n",
    "Similarity Calculation:\n",
    "\n",
    "User-Based: Compute the similarity between users using metrics like cosine similarity, Pearson correlation, or Jaccard index. Users with similar preferences are grouped together.\n",
    "Item-Based: Compute the similarity between items based on user ratings or interactions. Items with similar patterns of interaction are grouped together.\n",
    "Prediction/Recommendation:\n",
    "\n",
    "For user-based collaborative filtering, recommend items that similar users have liked but the target user hasn't interacted with yet.\n",
    "For item-based collaborative filtering, recommend items that are similar to the ones the user already interacted with.\n",
    "\n",
    "Challenges:\n",
    "\n",
    "Sparsity: If users have interacted with only a small portion of items, the matrix can be sparse, making it difficult to find similarities.\n",
    "Cold Start: New users or items with no interactions pose a problem for collaborative filtering, as there is no initial data to base recommendations on.\n",
    "Types of Collaborative Filtering:\n",
    "\n",
    "Memory-Based: Relies directly on the user-item interaction matrix and calculates similarities between users or items.\n",
    "Model-Based: Uses machine learning techniques (e.g.matrix factorization, neural networks) to create predictive models that generalize recommendations"
   ]
  },
  {
   "cell_type": "code",
   "execution_count": null,
   "id": "d6c09ba6-cbbd-42d8-8f2b-723293ad9e0d",
   "metadata": {},
   "outputs": [],
   "source": []
  }
 ],
 "metadata": {
  "kernelspec": {
   "display_name": "Python 3 (ipykernel)",
   "language": "python",
   "name": "python3"
  },
  "language_info": {
   "codemirror_mode": {
    "name": "ipython",
    "version": 3
   },
   "file_extension": ".py",
   "mimetype": "text/x-python",
   "name": "python",
   "nbconvert_exporter": "python",
   "pygments_lexer": "ipython3",
   "version": "3.11.5"
  }
 },
 "nbformat": 4,
 "nbformat_minor": 5
}
