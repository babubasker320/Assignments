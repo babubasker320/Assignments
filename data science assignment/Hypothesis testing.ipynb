{
 "cells": [
  {
   "cell_type": "markdown",
   "id": "e6d6d7cf-1550-4f13-bfef-bb7691e85d59",
   "metadata": {},
   "source": [
    "# Chisquare test"
   ]
  },
  {
   "cell_type": "raw",
   "id": "0f650582-df05-4e7b-808f-952e3f758073",
   "metadata": {},
   "source": [
    "1. State the Hypotheses:\n",
    "Null Hypothesis H0: There is no significant association between the type of device (Smart Thermostats vs. Smart Lights) and customer satisfaction level.\n",
    "Alternative Hypothesis H1: There is a significant association between the type of device and customer satisfaction level."
   ]
  },
  {
   "cell_type": "raw",
   "id": "a41d95ad-7476-449f-8153-ce282f8b11ae",
   "metadata": {},
   "source": [
    "2. Compute the Chi-Square Statistic:"
   ]
  },
  {
   "cell_type": "code",
   "execution_count": 2,
   "id": "2d3a98d9-b2cd-441a-81b7-241bd5270a68",
   "metadata": {},
   "outputs": [
    {
     "name": "stdout",
     "output_type": "stream",
     "text": [
      "Chi-Square Statistic: 5.638227513227513\n",
      "P-Value: 0.22784371130697179\n",
      "Degrees of Freedom: 4\n",
      "Expected Frequencies:\n",
      "[[ 48.  72.]\n",
      " [ 72. 108.]\n",
      " [ 60.  90.]\n",
      " [ 32.  48.]\n",
      " [ 28.  42.]]\n"
     ]
    }
   ],
   "source": [
    "import numpy as np\n",
    "import scipy.stats as stats\n",
    "\n",
    "# contingency table\n",
    "data = np.array([[50, 70],\n",
    "                 [80, 100],\n",
    "                 [60, 90],\n",
    "                 [30, 50],\n",
    "                 [20, 50]])\n",
    "\n",
    "# Chi-Square test\n",
    "chi2, p, dof, expected = stats.chi2_contingency(data)\n",
    "\n",
    "print(f\"Chi-Square Statistic: {chi2}\")\n",
    "print(f\"P-Value: {p}\")\n",
    "print(f\"Degrees of Freedom: {dof}\")\n",
    "print(\"Expected Frequencies:\")\n",
    "print(expected)"
   ]
  },
  {
   "cell_type": "raw",
   "id": "c0085083-f8fb-4e96-94cb-9f283b7b7f7c",
   "metadata": {},
   "source": [
    "3. Determine the Critical Value:"
   ]
  },
  {
   "cell_type": "code",
   "execution_count": 3,
   "id": "e373f6ac-f977-4064-8041-33704c409c0b",
   "metadata": {},
   "outputs": [
    {
     "name": "stdout",
     "output_type": "stream",
     "text": [
      "Critical Value: 9.487729036781154\n"
     ]
    }
   ],
   "source": [
    "import scipy.stats as stats\n",
    "\n",
    "# significance level (alpha) and degrees of freedom (dof)\n",
    "alpha = 0.05\n",
    "dof = 4  # degrees of freedom calculated earlier\n",
    "\n",
    "# critical value\n",
    "critical_value = stats.chi2.ppf(1 - alpha, dof)\n",
    "\n",
    "print(f\"Critical Value: {critical_value}\")"
   ]
  },
  {
   "cell_type": "raw",
   "id": "c962062e-7b39-4681-9137-cd3efb8c8f62",
   "metadata": {},
   "source": [
    "4. Make a Decision:\n",
    "Compare the Chi-Square statistic with the critical value to decide whether to reject the null hypothesis"
   ]
  },
  {
   "cell_type": "code",
   "execution_count": 5,
   "id": "a962a1be-53af-4ecc-a596-caa1c36d419e",
   "metadata": {},
   "outputs": [
    {
     "data": {
      "text/plain": [
       "'Fail to reject the null hypothesis (H0)'"
      ]
     },
     "execution_count": 5,
     "metadata": {},
     "output_type": "execute_result"
    }
   ],
   "source": [
    "decision = \"Reject the null hypothesis (H0)\" if chi2 > critical_value else \"Fail to reject the null hypothesis (H0)\"\n",
    "decision"
   ]
  },
  {
   "cell_type": "raw",
   "id": "7e3ce485-5199-4410-adbe-9929c1b9754a",
   "metadata": {},
   "source": [
    "Conclusion: There is no significant association between device type and customer satisfaction."
   ]
  },
  {
   "cell_type": "markdown",
   "id": "83d5e0d0-50a4-487f-8c2e-f53eacd55333",
   "metadata": {},
   "source": [
    "# Hypothesis Testing"
   ]
  },
  {
   "cell_type": "code",
   "execution_count": null,
   "id": "cb883c5c-9c56-4402-bff1-8ef477a781ae",
   "metadata": {},
   "outputs": [],
   "source": [
    "Hypothesis:\n",
    "Null Hypothesis H0: The mean weekly cost is meau=4000 (as per the theoretical model).\n",
    "Alternative Hypothesis H1: The mean weekly cost is greater than 4000,meau>4000.\n",
    "This is a one-tailed test since we are testing if the cost has increased."
   ]
  },
  {
   "cell_type": "code",
   "execution_count": 6,
   "id": "c2279108-56d0-43bb-97bc-8fb6341bedf2",
   "metadata": {},
   "outputs": [
    {
     "name": "stdout",
     "output_type": "stream",
     "text": [
      "Test Statistic: -38.0\n",
      "Critical Value: 1.6448536269514722\n",
      "Decision: Fail to Reject Null Hypothesis\n"
     ]
    }
   ],
   "source": [
    "# Importing required libraries\n",
    "import math\n",
    "import scipy.stats as stats\n",
    "\n",
    "# Given data\n",
    "sample_mean = 3050  # Sample mean weekly cost\n",
    "theoretical_mean = 4000  # Theoretical mean weekly cost\n",
    "std_dev = 125  # Standard deviation\n",
    "sample_size = 25  # Sample size\n",
    "\n",
    "# Test Statistic\n",
    "test_statistic = (sample_mean - theoretical_mean) / (std_dev / math.sqrt(sample_size))\n",
    "\n",
    "# Critical Value (one-tailed test for alpha = 0.05)\n",
    "alpha = 0.05\n",
    "critical_value = stats.norm.ppf(1 - alpha)\n",
    "\n",
    "# Compare test statistic with the critical value and make a decision\n",
    "decision = \"Reject Null Hypothesis\" if test_statistic > critical_value else \"Fail to Reject Null Hypothesis\"\n",
    "\n",
    "# results\n",
    "print(f\"Test Statistic: {test_statistic}\")\n",
    "print(f\"Critical Value: {critical_value}\")\n",
    "print(f\"Decision: {decision}\")"
   ]
  },
  {
   "cell_type": "raw",
   "id": "6c2abf0a-3a64-4421-95fb-0341b43f8839",
   "metadata": {},
   "source": [
    "Conclusion\n",
    "\n",
    "Based on test statistic and the critical value, we fail to reject the null hypothesis.\n",
    "This suggests there is no strong evidence to support claim that weekly operating costs are higher than theoretical model."
   ]
  },
  {
   "cell_type": "code",
   "execution_count": null,
   "id": "2948caac-15f0-472e-b38b-41f0f782987e",
   "metadata": {},
   "outputs": [],
   "source": []
  }
 ],
 "metadata": {
  "kernelspec": {
   "display_name": "Python 3 (ipykernel)",
   "language": "python",
   "name": "python3"
  },
  "language_info": {
   "codemirror_mode": {
    "name": "ipython",
    "version": 3
   },
   "file_extension": ".py",
   "mimetype": "text/x-python",
   "name": "python",
   "nbconvert_exporter": "python",
   "pygments_lexer": "ipython3",
   "version": "3.11.5"
  }
 },
 "nbformat": 4,
 "nbformat_minor": 5
}
