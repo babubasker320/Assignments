{
 "cells": [
  {
   "cell_type": "code",
   "execution_count": 2,
   "id": "be410c4f-8ffe-41d3-ac22-c4269f2dab7f",
   "metadata": {},
   "outputs": [
    {
     "data": {
      "text/plain": [
       "(1.2386666666666666,\n",
       " 0.19316412956959936,\n",
       " 2.976842734370834,\n",
       " 0.14846932822817596,\n",
       " (1.0901973384384906, 1.3871359948948425))"
      ]
     },
     "execution_count": 2,
     "metadata": {},
     "output_type": "execute_result"
    }
   ],
   "source": [
    "import numpy as np\n",
    "from scipy import stats\n",
    "# Given data\n",
    "data = [1.13, 1.55, 1.43, 0.92, 1.25, 1.36, 1.32, 0.85, 1.07, 1.48, 1.20, 1.33, 1.18, 1.22, 1.29]\n",
    "# sample mean and standard deviation\n",
    "sample_mean = np.mean(data)\n",
    "sample_std = np.std(data, ddof=1)  # ddof=1 to get sample standard deviation\n",
    "n = len(data)\n",
    "# t-critical value for 99% confidence interval, degrees of freedom = n - 1\n",
    "confidence_level = 0.99\n",
    "alpha = 1 - confidence_level\n",
    "df = n - 1\n",
    "t_critical = stats.t.ppf(1 - alpha / 2, df)\n",
    "# Margin of error\n",
    "margin_of_error = t_critical * (sample_std / np.sqrt(n))\n",
    "# Confidence interval\n",
    "confidence_interval = (sample_mean - margin_of_error, sample_mean + margin_of_error)\n",
    "\n",
    "sample_mean, sample_std, t_critical, margin_of_error, confidence_interval\n"
   ]
  },
  {
   "cell_type": "code",
   "execution_count": 4,
   "id": "61619ad3-9758-4c26-a839-ce1991a39f2f",
   "metadata": {},
   "outputs": [
    {
     "data": {
      "text/plain": [
       "(1.2386666666666666,\n",
       " 2.5758293035489004,\n",
       " 0.13301525327090588,\n",
       " (1.1056514133957607, 1.3716819199375725))"
      ]
     },
     "execution_count": 4,
     "metadata": {},
     "output_type": "execute_result"
    }
   ],
   "source": [
    "# population standard deviation\n",
    "population_std = 0.2\n",
    "# z-critical value for 99% confidence interval (from z-distribution)\n",
    "z_critical = stats.norm.ppf(1 - alpha / 2)\n",
    "# Margin of error using the known population standard deviation\n",
    "margin_of_error_pop_std = z_critical * (population_std / np.sqrt(n))\n",
    "# Confidence interval\n",
    "confidence_interval_pop_std = (sample_mean - margin_of_error_pop_std, sample_mean + margin_of_error_pop_std)\n",
    "\n",
    "sample_mean, z_critical, margin_of_error_pop_std, confidence_interval_pop_std"
   ]
  },
  {
   "cell_type": "raw",
   "id": "f3c3fc91-7d9c-4ea9-b7ca-6a368300841b",
   "metadata": {},
   "source": [
    "Conclusion:\n",
    "\n",
    "With the sample standard deviation, the 99% confidence interval is (1.095, 1.393).\n",
    "\n",
    "With the known population standard deviation, the 99% confidence interval is (1.111, 1.377)."
   ]
  },
  {
   "cell_type": "code",
   "execution_count": null,
   "id": "b2b24049-e171-4804-beba-c47128048719",
   "metadata": {},
   "outputs": [],
   "source": []
  }
 ],
 "metadata": {
  "kernelspec": {
   "display_name": "Python 3 (ipykernel)",
   "language": "python",
   "name": "python3"
  },
  "language_info": {
   "codemirror_mode": {
    "name": "ipython",
    "version": 3
   },
   "file_extension": ".py",
   "mimetype": "text/x-python",
   "name": "python",
   "nbconvert_exporter": "python",
   "pygments_lexer": "ipython3",
   "version": "3.11.5"
  }
 },
 "nbformat": 4,
 "nbformat_minor": 5
}
