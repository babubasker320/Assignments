{
 "cells": [
  {
   "cell_type": "raw",
   "id": "421a165b-bdbb-4204-bed8-6cb0903ec67a",
   "metadata": {},
   "source": [
    "Exercise 1: Prime Numbers"
   ]
  },
  {
   "cell_type": "code",
   "execution_count": 13,
   "id": "6fbb70ec-80e8-4c1a-8b4e-ae9b03fa9847",
   "metadata": {},
   "outputs": [
    {
     "name": "stdin",
     "output_type": "stream",
     "text": [
      "Enter a number:  53\n"
     ]
    },
    {
     "name": "stdout",
     "output_type": "stream",
     "text": [
      "53 is a prime number.\n"
     ]
    }
   ],
   "source": [
    "def is_prime(number):\n",
    "    # Prime numbers are greater than 1\n",
    "    if number <= 1:\n",
    "        return False\n",
    "    # Check factors\n",
    "    for i in range(2, int(number ** 0.5) + 1):\n",
    "        if number % i == 0:\n",
    "            return False\n",
    "    return True\n",
    "\n",
    "num = int(input(\"Enter a number: \"))\n",
    "if is_prime(num):\n",
    "    print(f\"{num} is a prime number.\")\n",
    "else:\n",
    "    print(f\"{num} is not a prime number.\")"
   ]
  },
  {
   "cell_type": "code",
   "execution_count": 16,
   "id": "064a3eef-8189-4cd9-bb42-64b52dced34b",
   "metadata": {},
   "outputs": [
    {
     "data": {
      "text/plain": [
       "True"
      ]
     },
     "execution_count": 16,
     "metadata": {},
     "output_type": "execute_result"
    }
   ],
   "source": [
    "is_prime(61)"
   ]
  },
  {
   "cell_type": "markdown",
   "id": "d641f375-a89e-4706-bbd1-7bbc3bf70205",
   "metadata": {},
   "source": [
    "# Exercise 2: Product of Random Numbers"
   ]
  },
  {
   "cell_type": "code",
   "execution_count": 17,
   "id": "d7daa2d8-482b-4059-b1a4-64fd8c695b70",
   "metadata": {},
   "outputs": [
    {
     "name": "stdin",
     "output_type": "stream",
     "text": [
      "What is the product of 3 and 4?  1\n"
     ]
    },
    {
     "name": "stdout",
     "output_type": "stream",
     "text": [
      "Wrong! The correct answer is 12.\n"
     ]
    }
   ],
   "source": [
    "import random\n",
    "\n",
    "def product_quiz():\n",
    "    # Generate two random numbers\n",
    "    num1 = random.randint(1, 10)\n",
    "    num2 = random.randint(1, 10)\n",
    "    \n",
    "    # Ask the user to calculate the product\n",
    "    user_answer = int(input(f\"What is the product of {num1} and {num2}? \"))\n",
    "    \n",
    "    # Check if the answer is correct\n",
    "    if user_answer == num1 * num2:\n",
    "        print(\"Correct! Well done.\")\n",
    "    else:\n",
    "        print(f\"Wrong! The correct answer is {num1 * num2}.\")\n",
    "\n",
    "\n",
    "product_quiz()"
   ]
  },
  {
   "cell_type": "raw",
   "id": "ddbeb300-0f41-4f8d-be93-20356de3dc3c",
   "metadata": {},
   "source": [
    "Exercise 3: Squares of Even/Odd Numbers"
   ]
  },
  {
   "cell_type": "code",
   "execution_count": 1,
   "id": "a13b0265-65a1-4fd3-a35f-b44d6c21c130",
   "metadata": {},
   "outputs": [
    {
     "name": "stdout",
     "output_type": "stream",
     "text": [
      "Squares of odd numbers between 100 and 200:\n",
      "101^2 = 10201\n",
      "103^2 = 10609\n",
      "105^2 = 11025\n",
      "107^2 = 11449\n",
      "109^2 = 11881\n",
      "111^2 = 12321\n",
      "113^2 = 12769\n",
      "115^2 = 13225\n",
      "117^2 = 13689\n",
      "119^2 = 14161\n",
      "121^2 = 14641\n",
      "123^2 = 15129\n",
      "125^2 = 15625\n",
      "127^2 = 16129\n",
      "129^2 = 16641\n",
      "131^2 = 17161\n",
      "133^2 = 17689\n",
      "135^2 = 18225\n",
      "137^2 = 18769\n",
      "139^2 = 19321\n",
      "141^2 = 19881\n",
      "143^2 = 20449\n",
      "145^2 = 21025\n",
      "147^2 = 21609\n",
      "149^2 = 22201\n",
      "151^2 = 22801\n",
      "153^2 = 23409\n",
      "155^2 = 24025\n",
      "157^2 = 24649\n",
      "159^2 = 25281\n",
      "161^2 = 25921\n",
      "163^2 = 26569\n",
      "165^2 = 27225\n",
      "167^2 = 27889\n",
      "169^2 = 28561\n",
      "171^2 = 29241\n",
      "173^2 = 29929\n",
      "175^2 = 30625\n",
      "177^2 = 31329\n",
      "179^2 = 32041\n",
      "181^2 = 32761\n",
      "183^2 = 33489\n",
      "185^2 = 34225\n",
      "187^2 = 34969\n",
      "189^2 = 35721\n",
      "191^2 = 36481\n",
      "193^2 = 37249\n",
      "195^2 = 38025\n",
      "197^2 = 38809\n",
      "199^2 = 39601\n"
     ]
    }
   ],
   "source": [
    "def print_squares_even_or_odd(choice=\"even\"):\n",
    "    if choice == \"even\":\n",
    "        print(\"Squares of even numbers between 100 and 200:\")\n",
    "        for num in range(100, 201):\n",
    "            if num % 2 == 0:\n",
    "                print(f\"{num}^2 = {num**2}\")\n",
    "    elif choice == \"odd\":\n",
    "        print(\"Squares of odd numbers between 100 and 200:\")\n",
    "        for num in range(100, 201):\n",
    "            if num % 2 != 0:\n",
    "                print(f\"{num}^2 = {num**2}\")\n",
    "\n",
    "\n",
    "print_squares_even_or_odd(\"odd\")  # Use \"odd\" for odd numbers"
   ]
  },
  {
   "cell_type": "raw",
   "id": "019ab85d-b16c-4a84-aa00-19db8b2b1854",
   "metadata": {},
   "source": [
    "Exercise 4: Word Counter"
   ]
  },
  {
   "cell_type": "code",
   "execution_count": 1,
   "id": "59ae8a67-885a-4915-8628-e9cefb60ede4",
   "metadata": {},
   "outputs": [
    {
     "name": "stdout",
     "output_type": "stream",
     "text": [
      "'the': 1\n",
      "'sample': 1\n",
      "'be': 1\n",
      "'a': 1\n",
      "'counter': 1\n",
      "'used': 1\n",
      "'will': 1\n",
      "'this': 2\n",
      "'text': 2\n",
      "'is': 1\n",
      "'demonstrate': 1\n",
      "'to': 1\n",
      "'word': 1\n"
     ]
    }
   ],
   "source": [
    "import re\n",
    "\n",
    "def word_counter(text):\n",
    "    text = text.lower()\n",
    "    words = re.findall(r'\\b\\w+\\b', text)\n",
    "    \n",
    "    unique_words = set(words)  # Get unique words\n",
    "    for word in unique_words:\n",
    "        count = words.count(word)\n",
    "        print(f\"'{word}': {count}\")\n",
    "\n",
    "input_text = \"This is a sample text. This text will be used to demonstrate the word counter.\"\n",
    "word_counter(input_text)"
   ]
  },
  {
   "cell_type": "raw",
   "id": "9423c09b-e1c4-48bb-8bd5-7098e9af2adb",
   "metadata": {},
   "source": [
    "Exercise 5: Check for Palindrome"
   ]
  },
  {
   "cell_type": "code",
   "execution_count": 30,
   "id": "2e3b4663-7ccc-4081-a204-a393a8c92a5d",
   "metadata": {},
   "outputs": [
    {
     "data": {
      "text/plain": [
       "True"
      ]
     },
     "execution_count": 30,
     "metadata": {},
     "output_type": "execute_result"
    }
   ],
   "source": [
    "import re\n",
    "\n",
    "def is_palindrome(input_string):\n",
    "    # Convert the string to lowercase to ignore case\n",
    "    input_string = input_string.lower()\n",
    "    \n",
    "    # Remove all non-alphanumeric characters (ignoring spaces and punctuation)\n",
    "    cleaned_string = re.sub(r'[^a-z0-9]', '', input_string)\n",
    "    \n",
    "    # Check if the cleaned string is equal to its reverse\n",
    "    return cleaned_string == cleaned_string[::-1]\n",
    "\n",
    "\n",
    "# test_string = \"racecar\"\n",
    "# print(is_palindrome(test_string))\n",
    "is_palindrome('Rac19 $E91c$a#r&')"
   ]
  },
  {
   "cell_type": "code",
   "execution_count": null,
   "id": "19ca662f-6574-4afc-9d78-f32c4eeb5340",
   "metadata": {},
   "outputs": [],
   "source": []
  }
 ],
 "metadata": {
  "kernelspec": {
   "display_name": "Python 3 (ipykernel)",
   "language": "python",
   "name": "python3"
  },
  "language_info": {
   "codemirror_mode": {
    "name": "ipython",
    "version": 3
   },
   "file_extension": ".py",
   "mimetype": "text/x-python",
   "name": "python",
   "nbconvert_exporter": "python",
   "pygments_lexer": "ipython3",
   "version": "3.11.5"
  }
 },
 "nbformat": 4,
 "nbformat_minor": 5
}
